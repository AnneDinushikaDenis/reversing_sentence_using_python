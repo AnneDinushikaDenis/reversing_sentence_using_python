{
 "cells": [
  {
   "cell_type": "code",
   "execution_count": 15,
   "id": "551edf0d",
   "metadata": {},
   "outputs": [
    {
     "name": "stdout",
     "output_type": "stream",
     "text": [
      "HHHeeellllllooo\n"
     ]
    }
   ],
   "source": [
    "def function(word):\n",
    "    my_word = \"\"\n",
    "    for i in word:\n",
    "        my_word = my_word + (i * 3)\n",
    "       \n",
    "    print (my_word)\n",
    "\n",
    "function(\"Hello\")"
   ]
  },
  {
   "cell_type": "code",
   "execution_count": 19,
   "id": "d0053d4f",
   "metadata": {},
   "outputs": [
    {
     "name": "stdout",
     "output_type": "stream",
     "text": [
      "HHHeeellllllooo\n"
     ]
    }
   ],
   "source": [
    "def func_name(word):\n",
    "    sent = ''\n",
    "    for a in word:\n",
    "        sent = sent +(a*3)\n",
    "    print (sent)  \n",
    "function('Hello')"
   ]
  },
  {
   "cell_type": "code",
   "execution_count": 21,
   "id": "0b9f51bf",
   "metadata": {},
   "outputs": [],
   "source": [
    "string = 'I am home'\n",
    "\n",
    "word = string.split()\n",
    "\n",
    "word = list(reversed(word))\n"
   ]
  },
  {
   "cell_type": "code",
   "execution_count": 22,
   "id": "135762b7",
   "metadata": {},
   "outputs": [
    {
     "data": {
      "text/plain": [
       "['home', 'am', 'I']"
      ]
     },
     "execution_count": 22,
     "metadata": {},
     "output_type": "execute_result"
    }
   ],
   "source": [
    "word"
   ]
  },
  {
   "cell_type": "code",
   "execution_count": 23,
   "id": "ed2ed1f6",
   "metadata": {},
   "outputs": [
    {
     "name": "stdout",
     "output_type": "stream",
     "text": [
      "home am I\n"
     ]
    }
   ],
   "source": [
    "print(\" \".join(word))"
   ]
  },
  {
   "cell_type": "code",
   "execution_count": null,
   "id": "b7583734",
   "metadata": {},
   "outputs": [],
   "source": []
  }
 ],
 "metadata": {
  "kernelspec": {
   "display_name": "Python 3 (ipykernel)",
   "language": "python",
   "name": "python3"
  },
  "language_info": {
   "codemirror_mode": {
    "name": "ipython",
    "version": 3
   },
   "file_extension": ".py",
   "mimetype": "text/x-python",
   "name": "python",
   "nbconvert_exporter": "python",
   "pygments_lexer": "ipython3",
   "version": "3.9.12"
  }
 },
 "nbformat": 4,
 "nbformat_minor": 5
}
